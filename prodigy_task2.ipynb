{
 "cells": [
  {
   "cell_type": "markdown",
   "id": "91b29f0e",
   "metadata": {},
   "source": [
    "# ANALYSIS OF DIAMOND DATASET"
   ]
  },
  {
   "cell_type": "markdown",
   "id": "5c0cf66a",
   "metadata": {},
   "source": [
    "#### This analysis of data is done by - Sakshi K More"
   ]
  },
  {
   "cell_type": "markdown",
   "id": "aea281b6",
   "metadata": {},
   "source": [
    "#### The diamond dataset is selected from kaggle.com"
   ]
  },
  {
   "cell_type": "markdown",
   "id": "eefb8521",
   "metadata": {},
   "source": [
    "##### The dataset consists of the following columns"
   ]
  },
  {
   "cell_type": "markdown",
   "id": "1e990d7d",
   "metadata": {},
   "source": [
    "id - Diamond identification number provided by Brilliant Earth"
   ]
  },
  {
   "cell_type": "markdown",
   "id": "3bfe1332",
   "metadata": {},
   "source": [
    " url - URL for the diamond details page"
   ]
  },
  {
   "cell_type": "markdown",
   "id": "51f0a9ac",
   "metadata": {},
   "source": [
    "shape - External geometric appearance of a diamond"
   ]
  },
  {
   "cell_type": "markdown",
   "id": "81397807",
   "metadata": {},
   "source": [
    "price - Price in U.S. dollars"
   ]
  },
  {
   "cell_type": "markdown",
   "id": "1f2f400a",
   "metadata": {},
   "source": [
    "carat -  Unit of measurement used to describe the weight of a diamond"
   ]
  },
  {
   "cell_type": "markdown",
   "id": "93c60b05",
   "metadata": {},
   "source": [
    "cut - Facets, symmetry, and reflective qualities of a diamond"
   ]
  },
  {
   "cell_type": "markdown",
   "id": "cee490bd",
   "metadata": {},
   "source": [
    "color - Natural color or lack of color visible within a diamond, based on the GIA grade scale"
   ]
  },
  {
   "cell_type": "markdown",
   "id": "776de552",
   "metadata": {},
   "source": [
    "clarity - Visibility of natural microscopic inclusions and imperfections within a diamond"
   ]
  },
  {
   "cell_type": "markdown",
   "id": "31fdf5e2",
   "metadata": {},
   "source": [
    "report - Diamond certificate or grading report provided by an independent gemology lab"
   ]
  },
  {
   "cell_type": "markdown",
   "id": "d9e5ee6e",
   "metadata": {},
   "source": [
    "type - Natural or lab created diamonds"
   ]
  },
  {
   "cell_type": "markdown",
   "id": "1719c102",
   "metadata": {},
   "source": [
    "date_fetched - Date the data was fetched"
   ]
  },
  {
   "cell_type": "markdown",
   "id": "8b7aa6a4",
   "metadata": {},
   "source": [
    "#### importing all the required libraries"
   ]
  },
  {
   "cell_type": "code",
   "execution_count": 1,
   "id": "252fc4b2",
   "metadata": {},
   "outputs": [],
   "source": [
    "import pandas as pd\n",
    "import numpy as np\n",
    "from sklearn.model_selection import train_test_split\n",
    "from sklearn.linear_model import LinearRegression\n",
    "import datetime as dt\n",
    "import matplotlib.pyplot as plt\n",
    "import seaborn as sns\n",
    "%matplotlib inline\n",
    "sns.set_style('darkgrid')"
   ]
  },
  {
   "cell_type": "markdown",
   "id": "b0f806f2",
   "metadata": {},
   "source": [
    "#### loading the diamond dataset which is in the .csv format using the pandas library"
   ]
  },
  {
   "cell_type": "code",
   "execution_count": 2,
   "id": "216f6501",
   "metadata": {},
   "outputs": [
    {
     "data": {
      "text/html": [
       "<div>\n",
       "<style scoped>\n",
       "    .dataframe tbody tr th:only-of-type {\n",
       "        vertical-align: middle;\n",
       "    }\n",
       "\n",
       "    .dataframe tbody tr th {\n",
       "        vertical-align: top;\n",
       "    }\n",
       "\n",
       "    .dataframe thead th {\n",
       "        text-align: right;\n",
       "    }\n",
       "</style>\n",
       "<table border=\"1\" class=\"dataframe\">\n",
       "  <thead>\n",
       "    <tr style=\"text-align: right;\">\n",
       "      <th></th>\n",
       "      <th>id</th>\n",
       "      <th>url</th>\n",
       "      <th>shape</th>\n",
       "      <th>price</th>\n",
       "      <th>carat</th>\n",
       "      <th>cut</th>\n",
       "      <th>color</th>\n",
       "      <th>clarity</th>\n",
       "      <th>report</th>\n",
       "      <th>type</th>\n",
       "      <th>date_fetched</th>\n",
       "    </tr>\n",
       "  </thead>\n",
       "  <tbody>\n",
       "    <tr>\n",
       "      <th>0</th>\n",
       "      <td>10086429</td>\n",
       "      <td>https://www.brilliantearth.com//loose-diamonds...</td>\n",
       "      <td>Round</td>\n",
       "      <td>400</td>\n",
       "      <td>0.30</td>\n",
       "      <td>Very Good</td>\n",
       "      <td>J</td>\n",
       "      <td>SI2</td>\n",
       "      <td>GIA</td>\n",
       "      <td>natural</td>\n",
       "      <td>2020-11-29 12-26 PM</td>\n",
       "    </tr>\n",
       "    <tr>\n",
       "      <th>1</th>\n",
       "      <td>10016334</td>\n",
       "      <td>https://www.brilliantearth.com//loose-diamonds...</td>\n",
       "      <td>Emerald</td>\n",
       "      <td>400</td>\n",
       "      <td>0.31</td>\n",
       "      <td>Ideal</td>\n",
       "      <td>I</td>\n",
       "      <td>SI1</td>\n",
       "      <td>GIA</td>\n",
       "      <td>natural</td>\n",
       "      <td>2020-11-29 12-26 PM</td>\n",
       "    </tr>\n",
       "    <tr>\n",
       "      <th>2</th>\n",
       "      <td>9947216</td>\n",
       "      <td>https://www.brilliantearth.com//loose-diamonds...</td>\n",
       "      <td>Emerald</td>\n",
       "      <td>400</td>\n",
       "      <td>0.30</td>\n",
       "      <td>Ideal</td>\n",
       "      <td>I</td>\n",
       "      <td>VS2</td>\n",
       "      <td>GIA</td>\n",
       "      <td>natural</td>\n",
       "      <td>2020-11-29 12-26 PM</td>\n",
       "    </tr>\n",
       "    <tr>\n",
       "      <th>3</th>\n",
       "      <td>10083437</td>\n",
       "      <td>https://www.brilliantearth.com//loose-diamonds...</td>\n",
       "      <td>Round</td>\n",
       "      <td>400</td>\n",
       "      <td>0.30</td>\n",
       "      <td>Ideal</td>\n",
       "      <td>I</td>\n",
       "      <td>SI2</td>\n",
       "      <td>GIA</td>\n",
       "      <td>natural</td>\n",
       "      <td>2020-11-29 12-26 PM</td>\n",
       "    </tr>\n",
       "    <tr>\n",
       "      <th>4</th>\n",
       "      <td>9946136</td>\n",
       "      <td>https://www.brilliantearth.com//loose-diamonds...</td>\n",
       "      <td>Emerald</td>\n",
       "      <td>400</td>\n",
       "      <td>0.30</td>\n",
       "      <td>Ideal</td>\n",
       "      <td>I</td>\n",
       "      <td>SI1</td>\n",
       "      <td>GIA</td>\n",
       "      <td>natural</td>\n",
       "      <td>2020-11-29 12-26 PM</td>\n",
       "    </tr>\n",
       "  </tbody>\n",
       "</table>\n",
       "</div>"
      ],
      "text/plain": [
       "         id                                                url    shape  \\\n",
       "0  10086429  https://www.brilliantearth.com//loose-diamonds...    Round   \n",
       "1  10016334  https://www.brilliantearth.com//loose-diamonds...  Emerald   \n",
       "2   9947216  https://www.brilliantearth.com//loose-diamonds...  Emerald   \n",
       "3  10083437  https://www.brilliantearth.com//loose-diamonds...    Round   \n",
       "4   9946136  https://www.brilliantearth.com//loose-diamonds...  Emerald   \n",
       "\n",
       "   price  carat        cut color clarity report     type         date_fetched  \n",
       "0    400   0.30  Very Good     J     SI2    GIA  natural  2020-11-29 12-26 PM  \n",
       "1    400   0.31      Ideal     I     SI1    GIA  natural  2020-11-29 12-26 PM  \n",
       "2    400   0.30      Ideal     I     VS2    GIA  natural  2020-11-29 12-26 PM  \n",
       "3    400   0.30      Ideal     I     SI2    GIA  natural  2020-11-29 12-26 PM  \n",
       "4    400   0.30      Ideal     I     SI1    GIA  natural  2020-11-29 12-26 PM  "
      ]
     },
     "execution_count": 2,
     "metadata": {},
     "output_type": "execute_result"
    }
   ],
   "source": [
    "data=pd.read_csv('diamonds_dataset.csv')\n",
    "#displaying the first 5 rows using the head method\n",
    "data.head()"
   ]
  },
  {
   "cell_type": "markdown",
   "id": "5fb1920f",
   "metadata": {},
   "source": [
    "## DATA CLEANING"
   ]
  },
  {
   "cell_type": "markdown",
   "id": "7b8d2c3e",
   "metadata": {},
   "source": [
    "#### determining the shape of the data"
   ]
  },
  {
   "cell_type": "code",
   "execution_count": 3,
   "id": "3b21319b",
   "metadata": {},
   "outputs": [
    {
     "data": {
      "text/plain": [
       "(119307, 11)"
      ]
     },
     "execution_count": 3,
     "metadata": {},
     "output_type": "execute_result"
    }
   ],
   "source": [
    "data.shape"
   ]
  },
  {
   "cell_type": "markdown",
   "id": "36cc38de",
   "metadata": {},
   "source": [
    "this indicates that the dataset consists of 1,19,307 rows and 11 columns"
   ]
  },
  {
   "cell_type": "markdown",
   "id": "e1171d4b",
   "metadata": {},
   "source": [
    "#### determining the columns of the dataset"
   ]
  },
  {
   "cell_type": "code",
   "execution_count": 4,
   "id": "c85744fe",
   "metadata": {},
   "outputs": [
    {
     "data": {
      "text/plain": [
       "Index(['id', 'url', 'shape', 'price', 'carat', 'cut', 'color', 'clarity',\n",
       "       'report', 'type', 'date_fetched'],\n",
       "      dtype='object')"
      ]
     },
     "execution_count": 4,
     "metadata": {},
     "output_type": "execute_result"
    }
   ],
   "source": [
    "data.columns"
   ]
  },
  {
   "cell_type": "markdown",
   "id": "51a3efc7",
   "metadata": {},
   "source": [
    "#### droping the unecessary columns from the datset for better analysis. we will drop the 'url' column from the data"
   ]
  },
  {
   "cell_type": "code",
   "execution_count": 5,
   "id": "5266ffbd",
   "metadata": {},
   "outputs": [],
   "source": [
    "data.drop(\"url\",axis=1,inplace=True)"
   ]
  },
  {
   "cell_type": "code",
   "execution_count": 6,
   "id": "0798696e",
   "metadata": {},
   "outputs": [
    {
     "data": {
      "text/plain": [
       "Index(['id', 'shape', 'price', 'carat', 'cut', 'color', 'clarity', 'report',\n",
       "       'type', 'date_fetched'],\n",
       "      dtype='object')"
      ]
     },
     "execution_count": 6,
     "metadata": {},
     "output_type": "execute_result"
    }
   ],
   "source": [
    "data.columns"
   ]
  },
  {
   "cell_type": "markdown",
   "id": "ca90a293",
   "metadata": {},
   "source": [
    "#### checking the datatype of the columns in the data"
   ]
  },
  {
   "cell_type": "code",
   "execution_count": 7,
   "id": "51e7b236",
   "metadata": {},
   "outputs": [
    {
     "data": {
      "text/plain": [
       "id                int64\n",
       "shape            object\n",
       "price             int64\n",
       "carat           float64\n",
       "cut              object\n",
       "color            object\n",
       "clarity          object\n",
       "report           object\n",
       "type             object\n",
       "date_fetched     object\n",
       "dtype: object"
      ]
     },
     "execution_count": 7,
     "metadata": {},
     "output_type": "execute_result"
    }
   ],
   "source": [
    "data.dtypes"
   ]
  },
  {
   "cell_type": "markdown",
   "id": "06cee206",
   "metadata": {},
   "source": [
    "#### converting the date_fetched column which is in object format into date format"
   ]
  },
  {
   "cell_type": "code",
   "execution_count": 8,
   "id": "894ef1b5",
   "metadata": {},
   "outputs": [],
   "source": [
    "data['date_fetched']=pd.to_datetime(data['date_fetched'])"
   ]
  },
  {
   "cell_type": "code",
   "execution_count": 9,
   "id": "62a12143",
   "metadata": {},
   "outputs": [],
   "source": [
    "data['date_fetched'] = data['date_fetched'].dt.strftime('%d-%m-%Y')"
   ]
  },
  {
   "cell_type": "code",
   "execution_count": 10,
   "id": "4d715ee5",
   "metadata": {},
   "outputs": [
    {
     "data": {
      "text/html": [
       "<div>\n",
       "<style scoped>\n",
       "    .dataframe tbody tr th:only-of-type {\n",
       "        vertical-align: middle;\n",
       "    }\n",
       "\n",
       "    .dataframe tbody tr th {\n",
       "        vertical-align: top;\n",
       "    }\n",
       "\n",
       "    .dataframe thead th {\n",
       "        text-align: right;\n",
       "    }\n",
       "</style>\n",
       "<table border=\"1\" class=\"dataframe\">\n",
       "  <thead>\n",
       "    <tr style=\"text-align: right;\">\n",
       "      <th></th>\n",
       "      <th>id</th>\n",
       "      <th>shape</th>\n",
       "      <th>price</th>\n",
       "      <th>carat</th>\n",
       "      <th>cut</th>\n",
       "      <th>color</th>\n",
       "      <th>clarity</th>\n",
       "      <th>report</th>\n",
       "      <th>type</th>\n",
       "      <th>date_fetched</th>\n",
       "    </tr>\n",
       "  </thead>\n",
       "  <tbody>\n",
       "    <tr>\n",
       "      <th>0</th>\n",
       "      <td>10086429</td>\n",
       "      <td>Round</td>\n",
       "      <td>400</td>\n",
       "      <td>0.30</td>\n",
       "      <td>Very Good</td>\n",
       "      <td>J</td>\n",
       "      <td>SI2</td>\n",
       "      <td>GIA</td>\n",
       "      <td>natural</td>\n",
       "      <td>29-11-2020</td>\n",
       "    </tr>\n",
       "    <tr>\n",
       "      <th>1</th>\n",
       "      <td>10016334</td>\n",
       "      <td>Emerald</td>\n",
       "      <td>400</td>\n",
       "      <td>0.31</td>\n",
       "      <td>Ideal</td>\n",
       "      <td>I</td>\n",
       "      <td>SI1</td>\n",
       "      <td>GIA</td>\n",
       "      <td>natural</td>\n",
       "      <td>29-11-2020</td>\n",
       "    </tr>\n",
       "    <tr>\n",
       "      <th>2</th>\n",
       "      <td>9947216</td>\n",
       "      <td>Emerald</td>\n",
       "      <td>400</td>\n",
       "      <td>0.30</td>\n",
       "      <td>Ideal</td>\n",
       "      <td>I</td>\n",
       "      <td>VS2</td>\n",
       "      <td>GIA</td>\n",
       "      <td>natural</td>\n",
       "      <td>29-11-2020</td>\n",
       "    </tr>\n",
       "    <tr>\n",
       "      <th>3</th>\n",
       "      <td>10083437</td>\n",
       "      <td>Round</td>\n",
       "      <td>400</td>\n",
       "      <td>0.30</td>\n",
       "      <td>Ideal</td>\n",
       "      <td>I</td>\n",
       "      <td>SI2</td>\n",
       "      <td>GIA</td>\n",
       "      <td>natural</td>\n",
       "      <td>29-11-2020</td>\n",
       "    </tr>\n",
       "    <tr>\n",
       "      <th>4</th>\n",
       "      <td>9946136</td>\n",
       "      <td>Emerald</td>\n",
       "      <td>400</td>\n",
       "      <td>0.30</td>\n",
       "      <td>Ideal</td>\n",
       "      <td>I</td>\n",
       "      <td>SI1</td>\n",
       "      <td>GIA</td>\n",
       "      <td>natural</td>\n",
       "      <td>29-11-2020</td>\n",
       "    </tr>\n",
       "  </tbody>\n",
       "</table>\n",
       "</div>"
      ],
      "text/plain": [
       "         id    shape  price  carat        cut color clarity report     type  \\\n",
       "0  10086429    Round    400   0.30  Very Good     J     SI2    GIA  natural   \n",
       "1  10016334  Emerald    400   0.31      Ideal     I     SI1    GIA  natural   \n",
       "2   9947216  Emerald    400   0.30      Ideal     I     VS2    GIA  natural   \n",
       "3  10083437    Round    400   0.30      Ideal     I     SI2    GIA  natural   \n",
       "4   9946136  Emerald    400   0.30      Ideal     I     SI1    GIA  natural   \n",
       "\n",
       "  date_fetched  \n",
       "0   29-11-2020  \n",
       "1   29-11-2020  \n",
       "2   29-11-2020  \n",
       "3   29-11-2020  \n",
       "4   29-11-2020  "
      ]
     },
     "execution_count": 10,
     "metadata": {},
     "output_type": "execute_result"
    }
   ],
   "source": [
    "data.head()"
   ]
  },
  {
   "cell_type": "markdown",
   "id": "0719b0ef",
   "metadata": {},
   "source": [
    "#### converting the price column which is in us dollors to inr"
   ]
  },
  {
   "cell_type": "code",
   "execution_count": 11,
   "id": "c425982c",
   "metadata": {},
   "outputs": [],
   "source": [
    "data['price']=data['price']*81.993"
   ]
  },
  {
   "cell_type": "code",
   "execution_count": 12,
   "id": "1625c3c5",
   "metadata": {},
   "outputs": [
    {
     "data": {
      "text/html": [
       "<div>\n",
       "<style scoped>\n",
       "    .dataframe tbody tr th:only-of-type {\n",
       "        vertical-align: middle;\n",
       "    }\n",
       "\n",
       "    .dataframe tbody tr th {\n",
       "        vertical-align: top;\n",
       "    }\n",
       "\n",
       "    .dataframe thead th {\n",
       "        text-align: right;\n",
       "    }\n",
       "</style>\n",
       "<table border=\"1\" class=\"dataframe\">\n",
       "  <thead>\n",
       "    <tr style=\"text-align: right;\">\n",
       "      <th></th>\n",
       "      <th>id</th>\n",
       "      <th>shape</th>\n",
       "      <th>price</th>\n",
       "      <th>carat</th>\n",
       "      <th>cut</th>\n",
       "      <th>color</th>\n",
       "      <th>clarity</th>\n",
       "      <th>report</th>\n",
       "      <th>type</th>\n",
       "      <th>date_fetched</th>\n",
       "    </tr>\n",
       "  </thead>\n",
       "  <tbody>\n",
       "    <tr>\n",
       "      <th>0</th>\n",
       "      <td>10086429</td>\n",
       "      <td>Round</td>\n",
       "      <td>32797.2</td>\n",
       "      <td>0.30</td>\n",
       "      <td>Very Good</td>\n",
       "      <td>J</td>\n",
       "      <td>SI2</td>\n",
       "      <td>GIA</td>\n",
       "      <td>natural</td>\n",
       "      <td>29-11-2020</td>\n",
       "    </tr>\n",
       "    <tr>\n",
       "      <th>1</th>\n",
       "      <td>10016334</td>\n",
       "      <td>Emerald</td>\n",
       "      <td>32797.2</td>\n",
       "      <td>0.31</td>\n",
       "      <td>Ideal</td>\n",
       "      <td>I</td>\n",
       "      <td>SI1</td>\n",
       "      <td>GIA</td>\n",
       "      <td>natural</td>\n",
       "      <td>29-11-2020</td>\n",
       "    </tr>\n",
       "    <tr>\n",
       "      <th>2</th>\n",
       "      <td>9947216</td>\n",
       "      <td>Emerald</td>\n",
       "      <td>32797.2</td>\n",
       "      <td>0.30</td>\n",
       "      <td>Ideal</td>\n",
       "      <td>I</td>\n",
       "      <td>VS2</td>\n",
       "      <td>GIA</td>\n",
       "      <td>natural</td>\n",
       "      <td>29-11-2020</td>\n",
       "    </tr>\n",
       "    <tr>\n",
       "      <th>3</th>\n",
       "      <td>10083437</td>\n",
       "      <td>Round</td>\n",
       "      <td>32797.2</td>\n",
       "      <td>0.30</td>\n",
       "      <td>Ideal</td>\n",
       "      <td>I</td>\n",
       "      <td>SI2</td>\n",
       "      <td>GIA</td>\n",
       "      <td>natural</td>\n",
       "      <td>29-11-2020</td>\n",
       "    </tr>\n",
       "    <tr>\n",
       "      <th>4</th>\n",
       "      <td>9946136</td>\n",
       "      <td>Emerald</td>\n",
       "      <td>32797.2</td>\n",
       "      <td>0.30</td>\n",
       "      <td>Ideal</td>\n",
       "      <td>I</td>\n",
       "      <td>SI1</td>\n",
       "      <td>GIA</td>\n",
       "      <td>natural</td>\n",
       "      <td>29-11-2020</td>\n",
       "    </tr>\n",
       "  </tbody>\n",
       "</table>\n",
       "</div>"
      ],
      "text/plain": [
       "         id    shape    price  carat        cut color clarity report     type  \\\n",
       "0  10086429    Round  32797.2   0.30  Very Good     J     SI2    GIA  natural   \n",
       "1  10016334  Emerald  32797.2   0.31      Ideal     I     SI1    GIA  natural   \n",
       "2   9947216  Emerald  32797.2   0.30      Ideal     I     VS2    GIA  natural   \n",
       "3  10083437    Round  32797.2   0.30      Ideal     I     SI2    GIA  natural   \n",
       "4   9946136  Emerald  32797.2   0.30      Ideal     I     SI1    GIA  natural   \n",
       "\n",
       "  date_fetched  \n",
       "0   29-11-2020  \n",
       "1   29-11-2020  \n",
       "2   29-11-2020  \n",
       "3   29-11-2020  \n",
       "4   29-11-2020  "
      ]
     },
     "execution_count": 12,
     "metadata": {},
     "output_type": "execute_result"
    }
   ],
   "source": [
    "data.head()"
   ]
  },
  {
   "cell_type": "markdown",
   "id": "6db8314c",
   "metadata": {},
   "source": [
    "#### renaming some columns in the data"
   ]
  },
  {
   "cell_type": "code",
   "execution_count": 13,
   "id": "527d4b26",
   "metadata": {},
   "outputs": [],
   "source": [
    "data.rename(columns={'price':'price(in inr)'},inplace=True)"
   ]
  },
  {
   "cell_type": "code",
   "execution_count": 14,
   "id": "2b605539",
   "metadata": {},
   "outputs": [
    {
     "data": {
      "text/plain": [
       "Index(['id', 'shape', 'price(in inr)', 'carat', 'cut', 'color', 'clarity',\n",
       "       'report', 'type', 'date_fetched'],\n",
       "      dtype='object')"
      ]
     },
     "execution_count": 14,
     "metadata": {},
     "output_type": "execute_result"
    }
   ],
   "source": [
    "data.columns"
   ]
  },
  {
   "cell_type": "markdown",
   "id": "afee75f6",
   "metadata": {},
   "source": [
    "#### checking the description of the data"
   ]
  },
  {
   "cell_type": "code",
   "execution_count": 15,
   "id": "25f534d5",
   "metadata": {},
   "outputs": [
    {
     "data": {
      "text/html": [
       "<div>\n",
       "<style scoped>\n",
       "    .dataframe tbody tr th:only-of-type {\n",
       "        vertical-align: middle;\n",
       "    }\n",
       "\n",
       "    .dataframe tbody tr th {\n",
       "        vertical-align: top;\n",
       "    }\n",
       "\n",
       "    .dataframe thead th {\n",
       "        text-align: right;\n",
       "    }\n",
       "</style>\n",
       "<table border=\"1\" class=\"dataframe\">\n",
       "  <thead>\n",
       "    <tr style=\"text-align: right;\">\n",
       "      <th></th>\n",
       "      <th>id</th>\n",
       "      <th>price(in inr)</th>\n",
       "      <th>carat</th>\n",
       "    </tr>\n",
       "  </thead>\n",
       "  <tbody>\n",
       "    <tr>\n",
       "      <th>count</th>\n",
       "      <td>1.193070e+05</td>\n",
       "      <td>1.193070e+05</td>\n",
       "      <td>119307.000000</td>\n",
       "    </tr>\n",
       "    <tr>\n",
       "      <th>mean</th>\n",
       "      <td>9.905507e+06</td>\n",
       "      <td>2.694981e+05</td>\n",
       "      <td>0.884169</td>\n",
       "    </tr>\n",
       "    <tr>\n",
       "      <th>std</th>\n",
       "      <td>2.373824e+05</td>\n",
       "      <td>7.473412e+05</td>\n",
       "      <td>0.671141</td>\n",
       "    </tr>\n",
       "    <tr>\n",
       "      <th>min</th>\n",
       "      <td>4.367730e+05</td>\n",
       "      <td>2.213811e+04</td>\n",
       "      <td>0.250000</td>\n",
       "    </tr>\n",
       "    <tr>\n",
       "      <th>25%</th>\n",
       "      <td>9.854352e+06</td>\n",
       "      <td>7.379370e+04</td>\n",
       "      <td>0.400000</td>\n",
       "    </tr>\n",
       "    <tr>\n",
       "      <th>50%</th>\n",
       "      <td>9.978096e+06</td>\n",
       "      <td>1.451276e+05</td>\n",
       "      <td>0.700000</td>\n",
       "    </tr>\n",
       "    <tr>\n",
       "      <th>75%</th>\n",
       "      <td>1.005433e+07</td>\n",
       "      <td>2.861556e+05</td>\n",
       "      <td>1.100000</td>\n",
       "    </tr>\n",
       "    <tr>\n",
       "      <th>max</th>\n",
       "      <td>1.009225e+07</td>\n",
       "      <td>1.105856e+08</td>\n",
       "      <td>15.320000</td>\n",
       "    </tr>\n",
       "  </tbody>\n",
       "</table>\n",
       "</div>"
      ],
      "text/plain": [
       "                 id  price(in inr)          carat\n",
       "count  1.193070e+05   1.193070e+05  119307.000000\n",
       "mean   9.905507e+06   2.694981e+05       0.884169\n",
       "std    2.373824e+05   7.473412e+05       0.671141\n",
       "min    4.367730e+05   2.213811e+04       0.250000\n",
       "25%    9.854352e+06   7.379370e+04       0.400000\n",
       "50%    9.978096e+06   1.451276e+05       0.700000\n",
       "75%    1.005433e+07   2.861556e+05       1.100000\n",
       "max    1.009225e+07   1.105856e+08      15.320000"
      ]
     },
     "execution_count": 15,
     "metadata": {},
     "output_type": "execute_result"
    }
   ],
   "source": [
    "data.describe()"
   ]
  },
  {
   "cell_type": "markdown",
   "id": "4d10f916",
   "metadata": {},
   "source": [
    "#### checking if the data contains any null values"
   ]
  },
  {
   "cell_type": "code",
   "execution_count": 16,
   "id": "c5a98426",
   "metadata": {
    "scrolled": true
   },
   "outputs": [
    {
     "data": {
      "text/plain": [
       "id               0\n",
       "shape            0\n",
       "price(in inr)    0\n",
       "carat            0\n",
       "cut              0\n",
       "color            0\n",
       "clarity          0\n",
       "report           0\n",
       "type             0\n",
       "date_fetched     0\n",
       "dtype: int64"
      ]
     },
     "execution_count": 16,
     "metadata": {},
     "output_type": "execute_result"
    }
   ],
   "source": [
    "data.isnull().sum()"
   ]
  },
  {
   "cell_type": "markdown",
   "id": "e9bb2e8a",
   "metadata": {},
   "source": [
    "this indicates that the data does not contain any null value"
   ]
  },
  {
   "cell_type": "code",
   "execution_count": 17,
   "id": "12e93b55",
   "metadata": {
    "scrolled": true
   },
   "outputs": [
    {
     "data": {
      "text/plain": [
       "0"
      ]
     },
     "execution_count": 17,
     "metadata": {},
     "output_type": "execute_result"
    }
   ],
   "source": [
    "data.duplicated().sum()"
   ]
  },
  {
   "cell_type": "markdown",
   "id": "0bea75b9",
   "metadata": {},
   "source": [
    "this shows that the data does not contain any duplicated value"
   ]
  },
  {
   "cell_type": "markdown",
   "id": "928df53f",
   "metadata": {},
   "source": [
    "#### creating a new column in the dataset which displays the color of the diamond in more detail"
   ]
  },
  {
   "cell_type": "code",
   "execution_count": 18,
   "id": "3fd2d777",
   "metadata": {},
   "outputs": [
    {
     "data": {
      "text/plain": [
       "array(['J', 'I', 'E', 'F', 'G', 'H', 'D'], dtype=object)"
      ]
     },
     "execution_count": 18,
     "metadata": {},
     "output_type": "execute_result"
    }
   ],
   "source": [
    "data['color'].unique()"
   ]
  },
  {
   "cell_type": "code",
   "execution_count": 19,
   "id": "3fb10861",
   "metadata": {},
   "outputs": [],
   "source": [
    "data.loc[data.color=='J','color_detail']='near colorless,slight yellow'\n",
    "data.loc[data.color=='I','color_detail']='near colorless,noticeable yellow'\n",
    "data.loc[data.color=='E','color_detail']='virtually colorless'\n",
    "data.loc[data.color=='F','color_detail']='colorless,minimal amount of color'\n",
    "data.loc[data.color=='G','color_detail']='colorless,slight trace of color when compared'\n",
    "data.loc[data.color=='H','color_detail']='colorless,slight tinge of color unless compared'\n",
    "data.loc[data.color=='D','color_detail']='colorless,rare,pure'"
   ]
  },
  {
   "cell_type": "markdown",
   "id": "d3777d23",
   "metadata": {},
   "source": [
    "#### creating a new column in the dataset which displays the clarity of the diamond in more detail"
   ]
  },
  {
   "cell_type": "code",
   "execution_count": 20,
   "id": "c964ffc5",
   "metadata": {},
   "outputs": [
    {
     "data": {
      "text/plain": [
       "array(['SI2', 'SI1', 'VS2', 'VVS1', 'VS1', 'VVS2', 'IF', 'FL'],\n",
       "      dtype=object)"
      ]
     },
     "execution_count": 20,
     "metadata": {},
     "output_type": "execute_result"
    }
   ],
   "source": [
    "data['clarity'].unique()"
   ]
  },
  {
   "cell_type": "code",
   "execution_count": 21,
   "id": "301aac0d",
   "metadata": {},
   "outputs": [],
   "source": [
    "data.loc[data.clarity=='SI2','clarity_detail']='Slightly Included Flaws'\n",
    "data.loc[data.clarity=='SI1','clarity_detail']='Slightly Included Flaws'\n",
    "data.loc[data.clarity=='VS2','clarity_detail']='Very Slightly Included Flaws'\n",
    "data.loc[data.clarity=='VS1','clarity_detail']='Very Slightly Included Flaws'\n",
    "data.loc[data.clarity=='VVS1','clarity_detail']='Very, Very Slightly Included Flaws'\n",
    "data.loc[data.clarity=='VVS2','clarity_detail']='Very, Very Slightly Included Flaws'\n",
    "data.loc[data.clarity=='IF','clarity_detail']='Internally Flawless'\n",
    "data.loc[data.clarity=='FL','clarity_detail']=' Flawless,rare,highly valued'"
   ]
  },
  {
   "cell_type": "code",
   "execution_count": 22,
   "id": "5de51cd9",
   "metadata": {},
   "outputs": [
    {
     "data": {
      "text/html": [
       "<div>\n",
       "<style scoped>\n",
       "    .dataframe tbody tr th:only-of-type {\n",
       "        vertical-align: middle;\n",
       "    }\n",
       "\n",
       "    .dataframe tbody tr th {\n",
       "        vertical-align: top;\n",
       "    }\n",
       "\n",
       "    .dataframe thead th {\n",
       "        text-align: right;\n",
       "    }\n",
       "</style>\n",
       "<table border=\"1\" class=\"dataframe\">\n",
       "  <thead>\n",
       "    <tr style=\"text-align: right;\">\n",
       "      <th></th>\n",
       "      <th>id</th>\n",
       "      <th>shape</th>\n",
       "      <th>price(in inr)</th>\n",
       "      <th>carat</th>\n",
       "      <th>cut</th>\n",
       "      <th>color</th>\n",
       "      <th>clarity</th>\n",
       "      <th>report</th>\n",
       "      <th>type</th>\n",
       "      <th>date_fetched</th>\n",
       "      <th>color_detail</th>\n",
       "      <th>clarity_detail</th>\n",
       "    </tr>\n",
       "  </thead>\n",
       "  <tbody>\n",
       "    <tr>\n",
       "      <th>0</th>\n",
       "      <td>10086429</td>\n",
       "      <td>Round</td>\n",
       "      <td>32797.2</td>\n",
       "      <td>0.30</td>\n",
       "      <td>Very Good</td>\n",
       "      <td>J</td>\n",
       "      <td>SI2</td>\n",
       "      <td>GIA</td>\n",
       "      <td>natural</td>\n",
       "      <td>29-11-2020</td>\n",
       "      <td>near colorless,slight yellow</td>\n",
       "      <td>Slightly Included Flaws</td>\n",
       "    </tr>\n",
       "    <tr>\n",
       "      <th>1</th>\n",
       "      <td>10016334</td>\n",
       "      <td>Emerald</td>\n",
       "      <td>32797.2</td>\n",
       "      <td>0.31</td>\n",
       "      <td>Ideal</td>\n",
       "      <td>I</td>\n",
       "      <td>SI1</td>\n",
       "      <td>GIA</td>\n",
       "      <td>natural</td>\n",
       "      <td>29-11-2020</td>\n",
       "      <td>near colorless,noticeable yellow</td>\n",
       "      <td>Slightly Included Flaws</td>\n",
       "    </tr>\n",
       "    <tr>\n",
       "      <th>2</th>\n",
       "      <td>9947216</td>\n",
       "      <td>Emerald</td>\n",
       "      <td>32797.2</td>\n",
       "      <td>0.30</td>\n",
       "      <td>Ideal</td>\n",
       "      <td>I</td>\n",
       "      <td>VS2</td>\n",
       "      <td>GIA</td>\n",
       "      <td>natural</td>\n",
       "      <td>29-11-2020</td>\n",
       "      <td>near colorless,noticeable yellow</td>\n",
       "      <td>Very Slightly Included Flaws</td>\n",
       "    </tr>\n",
       "    <tr>\n",
       "      <th>3</th>\n",
       "      <td>10083437</td>\n",
       "      <td>Round</td>\n",
       "      <td>32797.2</td>\n",
       "      <td>0.30</td>\n",
       "      <td>Ideal</td>\n",
       "      <td>I</td>\n",
       "      <td>SI2</td>\n",
       "      <td>GIA</td>\n",
       "      <td>natural</td>\n",
       "      <td>29-11-2020</td>\n",
       "      <td>near colorless,noticeable yellow</td>\n",
       "      <td>Slightly Included Flaws</td>\n",
       "    </tr>\n",
       "    <tr>\n",
       "      <th>4</th>\n",
       "      <td>9946136</td>\n",
       "      <td>Emerald</td>\n",
       "      <td>32797.2</td>\n",
       "      <td>0.30</td>\n",
       "      <td>Ideal</td>\n",
       "      <td>I</td>\n",
       "      <td>SI1</td>\n",
       "      <td>GIA</td>\n",
       "      <td>natural</td>\n",
       "      <td>29-11-2020</td>\n",
       "      <td>near colorless,noticeable yellow</td>\n",
       "      <td>Slightly Included Flaws</td>\n",
       "    </tr>\n",
       "  </tbody>\n",
       "</table>\n",
       "</div>"
      ],
      "text/plain": [
       "         id    shape  price(in inr)  carat        cut color clarity report  \\\n",
       "0  10086429    Round        32797.2   0.30  Very Good     J     SI2    GIA   \n",
       "1  10016334  Emerald        32797.2   0.31      Ideal     I     SI1    GIA   \n",
       "2   9947216  Emerald        32797.2   0.30      Ideal     I     VS2    GIA   \n",
       "3  10083437    Round        32797.2   0.30      Ideal     I     SI2    GIA   \n",
       "4   9946136  Emerald        32797.2   0.30      Ideal     I     SI1    GIA   \n",
       "\n",
       "      type date_fetched                      color_detail  \\\n",
       "0  natural   29-11-2020      near colorless,slight yellow   \n",
       "1  natural   29-11-2020  near colorless,noticeable yellow   \n",
       "2  natural   29-11-2020  near colorless,noticeable yellow   \n",
       "3  natural   29-11-2020  near colorless,noticeable yellow   \n",
       "4  natural   29-11-2020  near colorless,noticeable yellow   \n",
       "\n",
       "                 clarity_detail  \n",
       "0       Slightly Included Flaws  \n",
       "1       Slightly Included Flaws  \n",
       "2  Very Slightly Included Flaws  \n",
       "3       Slightly Included Flaws  \n",
       "4       Slightly Included Flaws  "
      ]
     },
     "execution_count": 22,
     "metadata": {},
     "output_type": "execute_result"
    }
   ],
   "source": [
    "data.head()"
   ]
  },
  {
   "cell_type": "markdown",
   "id": "d994d2e3",
   "metadata": {},
   "source": [
    "#### creating new dataframes that gives proper description of unique clarity and color of diamonds"
   ]
  },
  {
   "cell_type": "code",
   "execution_count": 23,
   "id": "e03c819c",
   "metadata": {},
   "outputs": [],
   "source": [
    "diamond_color=data[['color','color_detail']]"
   ]
  },
  {
   "cell_type": "code",
   "execution_count": 24,
   "id": "a1221bd7",
   "metadata": {},
   "outputs": [
    {
     "data": {
      "text/html": [
       "<div>\n",
       "<style scoped>\n",
       "    .dataframe tbody tr th:only-of-type {\n",
       "        vertical-align: middle;\n",
       "    }\n",
       "\n",
       "    .dataframe tbody tr th {\n",
       "        vertical-align: top;\n",
       "    }\n",
       "\n",
       "    .dataframe thead th {\n",
       "        text-align: right;\n",
       "    }\n",
       "</style>\n",
       "<table border=\"1\" class=\"dataframe\">\n",
       "  <thead>\n",
       "    <tr style=\"text-align: right;\">\n",
       "      <th></th>\n",
       "      <th>color</th>\n",
       "      <th>color_detail</th>\n",
       "    </tr>\n",
       "  </thead>\n",
       "  <tbody>\n",
       "    <tr>\n",
       "      <th>0</th>\n",
       "      <td>J</td>\n",
       "      <td>near colorless,slight yellow</td>\n",
       "    </tr>\n",
       "    <tr>\n",
       "      <th>1</th>\n",
       "      <td>I</td>\n",
       "      <td>near colorless,noticeable yellow</td>\n",
       "    </tr>\n",
       "    <tr>\n",
       "      <th>5</th>\n",
       "      <td>E</td>\n",
       "      <td>virtually colorless</td>\n",
       "    </tr>\n",
       "    <tr>\n",
       "      <th>20</th>\n",
       "      <td>F</td>\n",
       "      <td>colorless,minimal amount of color</td>\n",
       "    </tr>\n",
       "    <tr>\n",
       "      <th>21</th>\n",
       "      <td>G</td>\n",
       "      <td>colorless,slight trace of color when compared</td>\n",
       "    </tr>\n",
       "    <tr>\n",
       "      <th>45</th>\n",
       "      <td>H</td>\n",
       "      <td>colorless,slight tinge of color unless compared</td>\n",
       "    </tr>\n",
       "    <tr>\n",
       "      <th>75</th>\n",
       "      <td>D</td>\n",
       "      <td>colorless,rare,pure</td>\n",
       "    </tr>\n",
       "  </tbody>\n",
       "</table>\n",
       "</div>"
      ],
      "text/plain": [
       "   color                                     color_detail\n",
       "0      J                     near colorless,slight yellow\n",
       "1      I                 near colorless,noticeable yellow\n",
       "5      E                              virtually colorless\n",
       "20     F                colorless,minimal amount of color\n",
       "21     G    colorless,slight trace of color when compared\n",
       "45     H  colorless,slight tinge of color unless compared\n",
       "75     D                              colorless,rare,pure"
      ]
     },
     "execution_count": 24,
     "metadata": {},
     "output_type": "execute_result"
    }
   ],
   "source": [
    "diamond_color.drop_duplicates()"
   ]
  },
  {
   "cell_type": "code",
   "execution_count": 25,
   "id": "29bf664b",
   "metadata": {},
   "outputs": [],
   "source": [
    "diamond_clarity=data[['clarity','clarity_detail']]"
   ]
  },
  {
   "cell_type": "code",
   "execution_count": 26,
   "id": "ad453c7a",
   "metadata": {},
   "outputs": [
    {
     "data": {
      "text/html": [
       "<div>\n",
       "<style scoped>\n",
       "    .dataframe tbody tr th:only-of-type {\n",
       "        vertical-align: middle;\n",
       "    }\n",
       "\n",
       "    .dataframe tbody tr th {\n",
       "        vertical-align: top;\n",
       "    }\n",
       "\n",
       "    .dataframe thead th {\n",
       "        text-align: right;\n",
       "    }\n",
       "</style>\n",
       "<table border=\"1\" class=\"dataframe\">\n",
       "  <thead>\n",
       "    <tr style=\"text-align: right;\">\n",
       "      <th></th>\n",
       "      <th>clarity</th>\n",
       "      <th>clarity_detail</th>\n",
       "    </tr>\n",
       "  </thead>\n",
       "  <tbody>\n",
       "    <tr>\n",
       "      <th>0</th>\n",
       "      <td>SI2</td>\n",
       "      <td>Slightly Included Flaws</td>\n",
       "    </tr>\n",
       "    <tr>\n",
       "      <th>1</th>\n",
       "      <td>SI1</td>\n",
       "      <td>Slightly Included Flaws</td>\n",
       "    </tr>\n",
       "    <tr>\n",
       "      <th>2</th>\n",
       "      <td>VS2</td>\n",
       "      <td>Very Slightly Included Flaws</td>\n",
       "    </tr>\n",
       "    <tr>\n",
       "      <th>9</th>\n",
       "      <td>VVS1</td>\n",
       "      <td>Very, Very Slightly Included Flaws</td>\n",
       "    </tr>\n",
       "    <tr>\n",
       "      <th>19</th>\n",
       "      <td>VS1</td>\n",
       "      <td>Very Slightly Included Flaws</td>\n",
       "    </tr>\n",
       "    <tr>\n",
       "      <th>152</th>\n",
       "      <td>VVS2</td>\n",
       "      <td>Very, Very Slightly Included Flaws</td>\n",
       "    </tr>\n",
       "    <tr>\n",
       "      <th>310</th>\n",
       "      <td>IF</td>\n",
       "      <td>Internally Flawless</td>\n",
       "    </tr>\n",
       "    <tr>\n",
       "      <th>1890</th>\n",
       "      <td>FL</td>\n",
       "      <td>Flawless,rare,highly valued</td>\n",
       "    </tr>\n",
       "  </tbody>\n",
       "</table>\n",
       "</div>"
      ],
      "text/plain": [
       "     clarity                      clarity_detail\n",
       "0        SI2             Slightly Included Flaws\n",
       "1        SI1             Slightly Included Flaws\n",
       "2        VS2        Very Slightly Included Flaws\n",
       "9       VVS1  Very, Very Slightly Included Flaws\n",
       "19       VS1        Very Slightly Included Flaws\n",
       "152     VVS2  Very, Very Slightly Included Flaws\n",
       "310       IF                 Internally Flawless\n",
       "1890      FL         Flawless,rare,highly valued"
      ]
     },
     "execution_count": 26,
     "metadata": {},
     "output_type": "execute_result"
    }
   ],
   "source": [
    "diamond_clarity.drop_duplicates()"
   ]
  },
  {
   "cell_type": "markdown",
   "id": "d0fead17",
   "metadata": {},
   "source": [
    "## EXPLORATORY DATA ANALYSIS"
   ]
  },
  {
   "cell_type": "code",
   "execution_count": 27,
   "id": "91eaca91",
   "metadata": {},
   "outputs": [
    {
     "data": {
      "text/plain": [
       "Index(['id', 'shape', 'price(in inr)', 'carat', 'cut', 'color', 'clarity',\n",
       "       'report', 'type', 'date_fetched', 'color_detail', 'clarity_detail'],\n",
       "      dtype='object')"
      ]
     },
     "execution_count": 27,
     "metadata": {},
     "output_type": "execute_result"
    }
   ],
   "source": [
    "data.columns"
   ]
  },
  {
   "cell_type": "markdown",
   "id": "5c22f785",
   "metadata": {},
   "source": [
    "#### creating a countplot to see the count of diamonds based on their shape and type"
   ]
  },
  {
   "cell_type": "code",
   "execution_count": 28,
   "id": "e51f509b",
   "metadata": {},
   "outputs": [
    {
     "data": {
      "image/png": "[encoded data removed]",
      "text/plain": [
       "<Figure size 720x864 with 1 Axes>"
      ]
     },
     "metadata": {},
     "output_type": "display_data"
    }
   ],
   "source": [
    "plt.figure(figsize=(10,12))\n",
    "ax=sns.countplot(x='shape',data=data,hue='type',palette='rocket')\n",
    "plt.title('Types of Diamonds based on shapes')\n",
    "plt.xticks(rotation=90)\n",
    "for p in ax.patches:\n",
    "    ax.text(p.get_x() + p.get_width() / 2., p.get_height(), f'{p.get_height()}', ha='center', va='bottom')"
   ]
  },
  {
   "cell_type": "markdown",
   "id": "2232142d",
   "metadata": {},
   "source": [
    "from this chart, we can infer that more of the natural diamonds exist in round shape followed by oval and least number of natural diamonds appear in Asscher shape"
   ]
  },
  {
   "cell_type": "markdown",
   "id": "f681f109",
   "metadata": {},
   "source": [
    "on the other hand, more number of laboratory diamonds occur in round shape followed by oval shape and least number of laboratory diamonds exixt in Heart shape"
   ]
  },
  {
   "cell_type": "markdown",
   "id": "19ad9140",
   "metadata": {},
   "source": [
    "#### creating a countplot to see the count of diamonds based on their clarity and type"
   ]
  },
  {
   "cell_type": "code",
   "execution_count": 29,
   "id": "41363dc5",
   "metadata": {},
   "outputs": [
    {
     "name": "stderr",
     "output_type": "stream",
     "text": [
      "posx and posy should be finite values\n",
      "posx and posy should be finite values\n"
     ]
    },
    {
     "data": {
      "image/png": "[encoded data removed]",
      "text/plain": [
       "<Figure size 576x576 with 1 Axes>"
      ]
     },
     "metadata": {},
     "output_type": "display_data"
    }
   ],
   "source": [
    "plt.figure(figsize=(8,8))\n",
    "ax=sns.countplot(x='clarity',data=data,hue='type',palette='viridis')\n",
    "plt.title('Types of Diamonds based on clarity')\n",
    "plt.xticks(rotation=90)\n",
    "for p in ax.patches:\n",
    "    ax.text(p.get_x() + p.get_width() / 2., p.get_height(), f'{p.get_height()}', ha='center', va='bottom')"
   ]
  },
  {
   "cell_type": "markdown",
   "id": "9c8bfd52",
   "metadata": {},
   "source": [
    "from this we can infer that most of the naturally exixting diamonds posses VS2 type of clarity  and least posses FL type of clarity"
   ]
  },
  {
   "cell_type": "markdown",
   "id": "c375ea67",
   "metadata": {},
   "source": [
    "on the other hand, we can infer that most of the laboratory created diamonds posses VS1 type of clarity and none of them posses FL type of clarity"
   ]
  },
  {
   "cell_type": "markdown",
   "id": "ee8e430f",
   "metadata": {},
   "source": [
    "#### creating a scatter plot to see if there is any relation between the carat and price of the diamond "
   ]
  },
  {
   "cell_type": "code",
   "execution_count": 30,
   "id": "88927294",
   "metadata": {},
   "outputs": [
    {
     "data": {
      "text/plain": [
       "Text(0, 0.5, 'Price of Diamonds')"
      ]
     },
     "execution_count": 30,
     "metadata": {},
     "output_type": "execute_result"
    },
    {
     "data": {
      "image/png": "[encoded data removed]",
      "text/plain": [
       "<Figure size 576x576 with 1 Axes>"
      ]
     },
     "metadata": {},
     "output_type": "display_data"
    }
   ],
   "source": [
    "plt.figure(figsize=(8,8))\n",
    "plt.scatter(x='carat',y='price(in inr)',data=data)\n",
    "plt.title('Relation between Carat and Price of diamond')\n",
    "plt.xlabel('Carat of Diamonds')\n",
    "plt.ylabel('Price of Diamonds')"
   ]
  },
  {
   "cell_type": "markdown",
   "id": "0b4592aa",
   "metadata": {},
   "source": [
    "from this scatter chart, we can infer that with the increase in carat the price also increases but there are few exceptions"
   ]
  },
  {
   "cell_type": "markdown",
   "id": "e359edc1",
   "metadata": {},
   "source": [
    "#### creating a scatter plot to see if there is any relation between the cut of diamond and price of the diamond "
   ]
  },
  {
   "cell_type": "code",
   "execution_count": 31,
   "id": "35e3e367",
   "metadata": {},
   "outputs": [
    {
     "data": {
      "text/plain": [
       "Text(0, 0.5, 'Price of Diamonds')"
      ]
     },
     "execution_count": 31,
     "metadata": {},
     "output_type": "execute_result"
    },
    {
     "data": {
      "image/png": "[encoded data removed]",
      "text/plain": [
       "<Figure size 576x576 with 1 Axes>"
      ]
     },
     "metadata": {},
     "output_type": "display_data"
    }
   ],
   "source": [
    "plt.figure(figsize=(8,8))\n",
    "plt.scatter(x='cut',y='price(in inr)',data=data)\n",
    "plt.title('Relation between Cut and Price of diamond')\n",
    "plt.xlabel('Carat of Diamonds')\n",
    "plt.ylabel('Price of Diamonds')"
   ]
  },
  {
   "cell_type": "markdown",
   "id": "68502afc",
   "metadata": {},
   "source": [
    "from this above chart we can infer that super ideal cut have more price value and fair cut have less price value"
   ]
  },
  {
   "cell_type": "markdown",
   "id": "61be46c8",
   "metadata": {},
   "source": [
    "#### creating a scatter plot to see if there is any relation between the color of diamond and price of the diamond"
   ]
  },
  {
   "cell_type": "code",
   "execution_count": 32,
   "id": "9239c8e5",
   "metadata": {},
   "outputs": [
    {
     "data": {
      "text/plain": [
       "Text(0, 0.5, 'Price of Diamonds')"
      ]
     },
     "execution_count": 32,
     "metadata": {},
     "output_type": "execute_result"
    },
    {
     "data": {
      "image/png": "[encoded data removed]",
      "text/plain": [
       "<Figure size 576x576 with 1 Axes>"
      ]
     },
     "metadata": {},
     "output_type": "display_data"
    }
   ],
   "source": [
    "plt.figure(figsize=(8,8))\n",
    "plt.scatter(x='color',y='price(in inr)',data=data)\n",
    "plt.title('Relation between Color and Price of diamond')\n",
    "plt.xlabel('Color of Diamonds')\n",
    "plt.ylabel('Price of Diamonds')"
   ]
  },
  {
   "cell_type": "markdown",
   "id": "d18ff1db",
   "metadata": {},
   "source": [
    "from this scatter chart , we can infer that hight prices are for D color diamonds(colorless,pure,rare) and less prices are for I color diamonds(noticeable yellow)"
   ]
  },
  {
   "cell_type": "markdown",
   "id": "96356e1a",
   "metadata": {},
   "source": [
    "#### creating a countplot for the number of reports given to the diamonds by different laboratories"
   ]
  },
  {
   "cell_type": "code",
   "execution_count": 33,
   "id": "00ca4849",
   "metadata": {
    "scrolled": true
   },
   "outputs": [
    {
     "name": "stderr",
     "output_type": "stream",
     "text": [
      "posx and posy should be finite values\n",
      "posx and posy should be finite values\n",
      "posx and posy should be finite values\n",
      "posx and posy should be finite values\n"
     ]
    },
    {
     "data": {
      "image/png": "[encoded data removed]",
      "text/plain": [
       "<Figure size 432x288 with 1 Axes>"
      ]
     },
     "metadata": {},
     "output_type": "display_data"
    }
   ],
   "source": [
    "ax=sns.countplot(x='report',data=data,hue='type')\n",
    "plt.title('Counts of reports given by different Labs')\n",
    "for p in ax.patches:\n",
    "    ax.text(p.get_x() + p.get_width() / 2., p.get_height(), f'{p.get_height()}', ha='center', va='bottom')"
   ]
  },
  {
   "cell_type": "markdown",
   "id": "ee1191b0",
   "metadata": {},
   "source": [
    "from this we can infer that most of the report for natural diamonds are given by GIA (Gemological Institute of America) and most of the laboratory diamond reports are given by IGI (International Gemological Institute)"
   ]
  },
  {
   "cell_type": "markdown",
   "id": "f0f9f753",
   "metadata": {},
   "source": [
    "## PREDICTION USING LINEAR MODEL"
   ]
  },
  {
   "cell_type": "markdown",
   "id": "cac8f45c",
   "metadata": {},
   "source": [
    "for prediction , I have used 'type','color','cut' as the independent variables and 'price' as the dependent variable"
   ]
  },
  {
   "cell_type": "markdown",
   "id": "830c83e3",
   "metadata": {},
   "source": [
    "the columns above are in object format so I have converted it into int data type by the mapping method of python"
   ]
  },
  {
   "cell_type": "code",
   "execution_count": 35,
   "id": "bbb822ff",
   "metadata": {},
   "outputs": [],
   "source": [
    "data['type']=data['type'].map({'natural':1,'lab':2})"
   ]
  },
  {
   "cell_type": "code",
   "execution_count": 36,
   "id": "4c27cfa6",
   "metadata": {},
   "outputs": [],
   "source": [
    "data['color']=data['color'].map({'D':1,'E':2,'F':3,'G':4,'H':5,'I':6,'J':7})"
   ]
  },
  {
   "cell_type": "code",
   "execution_count": 37,
   "id": "f68e46cc",
   "metadata": {},
   "outputs": [],
   "source": [
    "data['cut']=data['cut'].map({'Super Ideal':1,'Ideal':2,'Very Good':3,'Good':4,'Fair':5})"
   ]
  },
  {
   "cell_type": "code",
   "execution_count": 38,
   "id": "512ffa9c",
   "metadata": {},
   "outputs": [
    {
     "data": {
      "text/plain": [
       "Index(['id', 'shape', 'price(in inr)', 'carat', 'cut', 'color', 'clarity',\n",
       "       'report', 'type', 'date_fetched', 'color_detail', 'clarity_detail'],\n",
       "      dtype='object')"
      ]
     },
     "execution_count": 38,
     "metadata": {},
     "output_type": "execute_result"
    }
   ],
   "source": [
    "data.columns"
   ]
  },
  {
   "cell_type": "code",
   "execution_count": 39,
   "id": "ac823939",
   "metadata": {},
   "outputs": [],
   "source": [
    "x=data[['carat','cut','color']]"
   ]
  },
  {
   "cell_type": "code",
   "execution_count": 40,
   "id": "19ca35ad",
   "metadata": {},
   "outputs": [],
   "source": [
    "y=data['price(in inr)']"
   ]
  },
  {
   "cell_type": "code",
   "execution_count": 44,
   "id": "bf56e399",
   "metadata": {},
   "outputs": [],
   "source": [
    "model=LinearRegression()"
   ]
  },
  {
   "cell_type": "markdown",
   "id": "f395d86d",
   "metadata": {},
   "source": [
    "splitting the data into training set and testing set. It consists of 80% training data and 20% testing data"
   ]
  },
  {
   "cell_type": "code",
   "execution_count": 45,
   "id": "81f0bdb6",
   "metadata": {},
   "outputs": [],
   "source": [
    "x_train,x_test,y_train,y_test=train_test_split(x,y,test_size=0.20,random_state=42)"
   ]
  },
  {
   "cell_type": "code",
   "execution_count": 46,
   "id": "2f620696",
   "metadata": {
    "scrolled": true
   },
   "outputs": [
    {
     "data": {
      "text/plain": [
       "((95445, 3), (23862, 3))"
      ]
     },
     "execution_count": 46,
     "metadata": {},
     "output_type": "execute_result"
    }
   ],
   "source": [
    "x_train.shape,x_test.shape"
   ]
  },
  {
   "cell_type": "markdown",
   "id": "2593fe4b",
   "metadata": {},
   "source": [
    "training the model"
   ]
  },
  {
   "cell_type": "code",
   "execution_count": 47,
   "id": "964b45ce",
   "metadata": {},
   "outputs": [
    {
     "data": {
      "text/plain": [
       "LinearRegression()"
      ]
     },
     "execution_count": 47,
     "metadata": {},
     "output_type": "execute_result"
    }
   ],
   "source": [
    "model.fit(x_train,y_train)"
   ]
  },
  {
   "cell_type": "markdown",
   "id": "6fa99329",
   "metadata": {},
   "source": [
    "prediction using the model"
   ]
  },
  {
   "cell_type": "code",
   "execution_count": 48,
   "id": "1d1d09ab",
   "metadata": {},
   "outputs": [],
   "source": [
    "prediction=model.predict(x_test)"
   ]
  },
  {
   "cell_type": "code",
   "execution_count": 49,
   "id": "da46cd9c",
   "metadata": {},
   "outputs": [],
   "source": [
    "model_prediction=pd.DataFrame({'Actual':y_test,'Predicted_value':prediction})"
   ]
  },
  {
   "cell_type": "code",
   "execution_count": 50,
   "id": "53de7258",
   "metadata": {},
   "outputs": [
    {
     "data": {
      "text/html": [
       "<div>\n",
       "<style scoped>\n",
       "    .dataframe tbody tr th:only-of-type {\n",
       "        vertical-align: middle;\n",
       "    }\n",
       "\n",
       "    .dataframe tbody tr th {\n",
       "        vertical-align: top;\n",
       "    }\n",
       "\n",
       "    .dataframe thead th {\n",
       "        text-align: right;\n",
       "    }\n",
       "</style>\n",
       "<table border=\"1\" class=\"dataframe\">\n",
       "  <thead>\n",
       "    <tr style=\"text-align: right;\">\n",
       "      <th></th>\n",
       "      <th>Actual</th>\n",
       "      <th>Predicted_value</th>\n",
       "    </tr>\n",
       "  </thead>\n",
       "  <tbody>\n",
       "    <tr>\n",
       "      <th>74297</th>\n",
       "      <td>31977.27</td>\n",
       "      <td>-6523.624275</td>\n",
       "    </tr>\n",
       "    <tr>\n",
       "      <th>69241</th>\n",
       "      <td>1518510.36</td>\n",
       "      <td>613435.526052</td>\n",
       "    </tr>\n",
       "    <tr>\n",
       "      <th>27612</th>\n",
       "      <td>100031.46</td>\n",
       "      <td>-105984.860630</td>\n",
       "    </tr>\n",
       "    <tr>\n",
       "      <th>46748</th>\n",
       "      <td>207442.29</td>\n",
       "      <td>209260.483203</td>\n",
       "    </tr>\n",
       "    <tr>\n",
       "      <th>99536</th>\n",
       "      <td>192683.55</td>\n",
       "      <td>587122.208426</td>\n",
       "    </tr>\n",
       "    <tr>\n",
       "      <th>42714</th>\n",
       "      <td>182024.46</td>\n",
       "      <td>95562.733554</td>\n",
       "    </tr>\n",
       "    <tr>\n",
       "      <th>73315</th>\n",
       "      <td>30337.41</td>\n",
       "      <td>69004.911871</td>\n",
       "    </tr>\n",
       "    <tr>\n",
       "      <th>34605</th>\n",
       "      <td>127089.15</td>\n",
       "      <td>95588.193117</td>\n",
       "    </tr>\n",
       "    <tr>\n",
       "      <th>7519</th>\n",
       "      <td>58215.03</td>\n",
       "      <td>-21251.009643</td>\n",
       "    </tr>\n",
       "    <tr>\n",
       "      <th>35635</th>\n",
       "      <td>133648.59</td>\n",
       "      <td>105038.012015</td>\n",
       "    </tr>\n",
       "  </tbody>\n",
       "</table>\n",
       "</div>"
      ],
      "text/plain": [
       "           Actual  Predicted_value\n",
       "74297    31977.27     -6523.624275\n",
       "69241  1518510.36    613435.526052\n",
       "27612   100031.46   -105984.860630\n",
       "46748   207442.29    209260.483203\n",
       "99536   192683.55    587122.208426\n",
       "42714   182024.46     95562.733554\n",
       "73315    30337.41     69004.911871\n",
       "34605   127089.15     95588.193117\n",
       "7519     58215.03    -21251.009643\n",
       "35635   133648.59    105038.012015"
      ]
     },
     "execution_count": 50,
     "metadata": {},
     "output_type": "execute_result"
    }
   ],
   "source": [
    "model_prediction.head(10)"
   ]
  },
  {
   "cell_type": "markdown",
   "id": "156fd1db",
   "metadata": {},
   "source": [
    "our model does not give good prediction"
   ]
  },
  {
   "cell_type": "code",
   "execution_count": null,
   "id": "8a8d2a26",
   "metadata": {},
   "outputs": [],
   "source": []
  }
 ],
 "metadata": {
  "kernelspec": {
   "display_name": "Python 3",
   "language": "python",
   "name": "python3"
  },
  "language_info": {
   "codemirror_mode": {
    "name": "ipython",
    "version": 3
   },
   "file_extension": ".py",
   "mimetype": "text/x-python",
   "name": "python",
   "nbconvert_exporter": "python",
   "pygments_lexer": "ipython3",
   "version": "3.8.8"
  }
 },
 "nbformat": 4,
 "nbformat_minor": 5
}
